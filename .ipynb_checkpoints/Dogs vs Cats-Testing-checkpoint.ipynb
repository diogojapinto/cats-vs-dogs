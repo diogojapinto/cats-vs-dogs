{
 "cells": [
  {
   "cell_type": "markdown",
   "metadata": {
    "collapsed": false
   },
   "source": [
    "# Dogs vs Cats - features\n",
    "\n",
    "[Kaggle](https://www.kaggle.com/c/dogs-vs-cats)\n",
    "\n",
    "1 = dog\n",
    "\n",
    "0 = cat\n",
    "\n",
    "Notes for report:\n",
    "    analyse how the variability of nr_features affects\n",
    "    try different detectors"
   ]
  },
  {
   "cell_type": "code",
   "execution_count": 3,
   "metadata": {
    "collapsed": true
   },
   "outputs": [],
   "source": [
    "import cv2\n",
    "from matplotlib import pyplot as plt\n",
    "import sklearn\n",
    "import numpy as np\n",
    "import pickle as pk\n",
    "from os import listdir\n",
    "\n",
    "plt.style.use('ggplot')\n",
    "%matplotlib inline"
   ]
  },
  {
   "cell_type": "code",
   "execution_count": null,
   "metadata": {
    "collapsed": true
   },
   "outputs": [],
   "source": [
    "NR_WORDS = 500"
   ]
  },
  {
   "cell_type": "code",
   "execution_count": 1,
   "metadata": {
    "collapsed": true
   },
   "outputs": [],
   "source": [
    "from os import listdir\n",
    "\n",
    "def load_images(imgs_paths, gray=False):\n",
    "    for path in imgs_paths:\n",
    "        img = cv2.imread(path)\n",
    "        \n",
    "        if gray:\n",
    "            yield cv2.imread(path, cv2.IMREAD_GRAYSCALE)\n",
    "        else:\n",
    "            yield cv2.imread(path)"
   ]
  },
  {
   "cell_type": "markdown",
   "metadata": {},
   "source": [
    "## Features Extraction"
   ]
  },
  {
   "cell_type": "markdown",
   "metadata": {},
   "source": [
    "#### Features detectors, descriptors and matcher"
   ]
  },
  {
   "cell_type": "code",
   "execution_count": 15,
   "metadata": {
    "collapsed": true
   },
   "outputs": [],
   "source": [
    "# SIFT features detector and extractor\n",
    "sift = cv2.xfeatures2d.SIFT_create()"
   ]
  },
  {
   "cell_type": "code",
   "execution_count": 19,
   "metadata": {
    "collapsed": true
   },
   "outputs": [],
   "source": [
    "# FLANN matcher\n",
    "FLANN_INDEX_KDTREE = 0\n",
    "index_params = dict(algorithm = FLANN_INDEX_KDTREE, trees = 5)\n",
    "search_params = dict(checks=50)   # or pass empty dictionary\n",
    "\n",
    "flann = cv2.FlannBasedMatcher(index_params,search_params)"
   ]
  },
  {
   "cell_type": "markdown",
   "metadata": {},
   "source": [
    "#### Bag of Words"
   ]
  },
  {
   "cell_type": "code",
   "execution_count": 1,
   "metadata": {
    "collapsed": false
   },
   "outputs": [],
   "source": [
    "def train_bow(imgs, detector, matcher, extractor=None):\n",
    "    if extractor == None:\n",
    "        extractor = detector\n",
    "    \n",
    "    bow_extractor = cv2.BOWImgDescriptorExtractor(extractor, matcher)\n",
    "    \n",
    "    vocabulary = pk.load(open('vocabulary', 'rb'))\n",
    "    \n",
    "    bow_extractor.setVocabulary(vocabulary)\n",
    "    \n",
    "    return bow_extractor"
   ]
  },
  {
   "cell_type": "code",
   "execution_count": 38,
   "metadata": {
    "collapsed": true
   },
   "outputs": [],
   "source": [
    "detector = sift\n",
    "extractor = sift"
   ]
  },
  {
   "cell_type": "code",
   "execution_count": 39,
   "metadata": {
    "collapsed": false
   },
   "outputs": [],
   "source": [
    "sift_bow_extractor = train_bow(imgs_paths, detector, flann, extractor=extractor)"
   ]
  },
  {
   "cell_type": "code",
   "execution_count": 43,
   "metadata": {
    "collapsed": true
   },
   "outputs": [],
   "source": [
    "target_names = ['dog', 'cat']"
   ]
  },
  {
   "cell_type": "markdown",
   "metadata": {},
   "source": [
    "## Prediction"
   ]
  },
  {
   "cell_type": "code",
   "execution_count": 92,
   "metadata": {
    "collapsed": false
   },
   "outputs": [],
   "source": [
    "pk.load(best_clf, open('best_clf.p', 'rb'))"
   ]
  },
  {
   "cell_type": "markdown",
   "metadata": {
    "collapsed": true
   },
   "source": [
    "## Testing"
   ]
  },
  {
   "cell_type": "code",
   "execution_count": 125,
   "metadata": {
    "collapsed": false
   },
   "outputs": [],
   "source": [
    "def save_labels_csv(labels):\n",
    "    indexed_labels = np.concatenate((np.asmatrix(range(1, len(labels) + 1)).transpose(), np.asmatrix(labels)), axis=1)\n",
    "    \n",
    "    np.savetxt('result.csv', \n",
    "               indexed_labels,\n",
    "               fmt='%d',\n",
    "               delimiter=',',\n",
    "               header='id,label',\n",
    "               comments='')"
   ]
  },
  {
   "cell_type": "code",
   "execution_count": 111,
   "metadata": {
    "collapsed": true
   },
   "outputs": [],
   "source": [
    "test_folder = 'data/test1/'"
   ]
  },
  {
   "cell_type": "code",
   "execution_count": 130,
   "metadata": {
    "collapsed": false
   },
   "outputs": [],
   "source": [
    "test_imgs_paths = [test_folder + filepath for filepath in listdir(test_folder)]"
   ]
  },
  {
   "cell_type": "code",
   "execution_count": 131,
   "metadata": {
    "collapsed": false
   },
   "outputs": [],
   "source": [
    "test_imgs_paths = test_imgs_paths[:10]"
   ]
  },
  {
   "cell_type": "code",
   "execution_count": 132,
   "metadata": {
    "collapsed": false
   },
   "outputs": [],
   "source": [
    "pred = []\n",
    "\n",
    "test_imgs = load_images(test_imgs_paths, gray=True)\n",
    "\n",
    "for img in test_imgs:\n",
    "    \n",
    "    kp = detector.detect(img)\n",
    "    img_features = sift_bow_extractor.compute(img, kp)\n",
    "    \n",
    "    p = best_clf.predict(img_features)\n",
    "    \n",
    "    pred.append(p)"
   ]
  },
  {
   "cell_type": "code",
   "execution_count": 133,
   "metadata": {
    "collapsed": false
   },
   "outputs": [
    {
     "name": "stdout",
     "output_type": "stream",
     "text": [
      "[[ 1  1]\n",
      " [ 2  1]\n",
      " [ 3  1]\n",
      " [ 4  1]\n",
      " [ 5  1]\n",
      " [ 6  1]\n",
      " [ 7  1]\n",
      " [ 8  1]\n",
      " [ 9  1]\n",
      " [10  1]]\n"
     ]
    }
   ],
   "source": [
    "save_labels_csv(pred)"
   ]
  },
  {
   "cell_type": "code",
   "execution_count": null,
   "metadata": {
    "collapsed": true
   },
   "outputs": [],
   "source": []
  }
 ],
 "metadata": {
  "kernelspec": {
   "display_name": "Python 3",
   "language": "python",
   "name": "python3"
  },
  "language_info": {
   "codemirror_mode": {
    "name": "ipython",
    "version": 3
   },
   "file_extension": ".py",
   "mimetype": "text/x-python",
   "name": "python",
   "nbconvert_exporter": "python",
   "pygments_lexer": "ipython3",
   "version": "3.4.3"
  }
 },
 "nbformat": 4,
 "nbformat_minor": 0
}
