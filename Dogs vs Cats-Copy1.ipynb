{
 "cells": [
  {
   "cell_type": "markdown",
   "metadata": {
    "collapsed": false
   },
   "source": [
    "# Dogs vs Cats - features\n",
    "\n",
    "[Kaggle](https://www.kaggle.com/c/dogs-vs-cats)\n",
    "\n",
    "1 = dog\n",
    "\n",
    "0 = cat"
   ]
  },
  {
   "cell_type": "code",
   "execution_count": 6,
   "metadata": {
    "collapsed": true
   },
   "outputs": [],
   "source": [
    "import cv2\n",
    "from matplotlib import pyplot as plt\n",
    "import sklearn\n",
    "import numpy as np\n",
    "import pickle as pk\n",
    "from os import listdir\n",
    "\n",
    "plt.style.use('ggplot')\n",
    "%matplotlib inline"
   ]
  },
  {
   "cell_type": "markdown",
   "metadata": {},
   "source": [
    "### Load training dataset"
   ]
  },
  {
   "cell_type": "code",
   "execution_count": 7,
   "metadata": {
    "collapsed": true
   },
   "outputs": [],
   "source": [
    "train_folder = 'data/train/'"
   ]
  },
  {
   "cell_type": "code",
   "execution_count": 8,
   "metadata": {
    "collapsed": false
   },
   "outputs": [],
   "source": [
    "imgs_paths = [train_folder + filepath for filepath in listdir(train_folder)]"
   ]
  },
  {
   "cell_type": "code",
   "execution_count": 9,
   "metadata": {
    "collapsed": true
   },
   "outputs": [],
   "source": [
    "# select a subset\n",
    "imgs_paths = imgs_paths[:100]"
   ]
  },
  {
   "cell_type": "code",
   "execution_count": 10,
   "metadata": {
    "collapsed": true
   },
   "outputs": [],
   "source": [
    "from os import listdir\n",
    "\n",
    "def load_images(imgs_paths, gray=False):\n",
    "    for path in imgs_paths:\n",
    "        img = cv2.imread(path)\n",
    "        \n",
    "        if gray:\n",
    "            yield cv2.imread(path, cv2.IMREAD_GRAYSCALE)\n",
    "        else:\n",
    "            yield cv2.imread(path)"
   ]
  },
  {
   "cell_type": "code",
   "execution_count": 11,
   "metadata": {
    "collapsed": false
   },
   "outputs": [],
   "source": [
    "labels = [1 if \"dog\" in path else 0 for path in imgs_paths]"
   ]
  },
  {
   "cell_type": "code",
   "execution_count": null,
   "metadata": {
    "collapsed": false
   },
   "outputs": [],
   "source": [
    "print('Nr dogs:', labels.count(1))"
   ]
  },
  {
   "cell_type": "code",
   "execution_count": null,
   "metadata": {
    "collapsed": false
   },
   "outputs": [],
   "source": [
    "print('Nr cats:', labels.count(0))"
   ]
  },
  {
   "cell_type": "markdown",
   "metadata": {},
   "source": [
    "### Features Extraction"
   ]
  },
  {
   "cell_type": "code",
   "execution_count": null,
   "metadata": {
    "collapsed": true
   },
   "outputs": [],
   "source": [
    "# SIFT features detector and extractor\n",
    "sift = cv2.xfeatures2d.SIFT_create()"
   ]
  },
  {
   "cell_type": "code",
   "execution_count": null,
   "metadata": {
    "collapsed": true
   },
   "outputs": [],
   "source": [
    "# SURF features detector and extractor\n",
    "surf = cv2.xfeatures2d.SURF_create()"
   ]
  },
  {
   "cell_type": "code",
   "execution_count": null,
   "metadata": {
    "collapsed": false
   },
   "outputs": [],
   "source": [
    "# FAST features detector\n",
    "fast = cv2.FastFeatureDetector_create()"
   ]
  },
  {
   "cell_type": "code",
   "execution_count": null,
   "metadata": {
    "collapsed": true
   },
   "outputs": [],
   "source": [
    "# BRISK descriptors extractor\n",
    "br = cv2.BRISK_create()"
   ]
  },
  {
   "cell_type": "code",
   "execution_count": null,
   "metadata": {
    "collapsed": true
   },
   "outputs": [],
   "source": [
    "# FLANN matcher\n",
    "FLANN_INDEX_KDTREE = 0\n",
    "index_params = dict(algorithm = FLANN_INDEX_KDTREE, trees = 5)\n",
    "search_params = dict(checks=50)   # or pass empty dictionary\n",
    "\n",
    "flann = cv2.FlannBasedMatcher(index_params,search_params)"
   ]
  },
  {
   "cell_type": "code",
   "execution_count": null,
   "metadata": {
    "collapsed": true
   },
   "outputs": [],
   "source": [
    "def get_descriptors(imgs, detector, extractor=None):\n",
    "    for img in imgs:\n",
    "        if extractor == None:\n",
    "            yield detector(img, None)\n",
    "        else:\n",
    "            kp = detector(img, None)\n",
    "            yield extractor(img, kp)"
   ]
  },
  {
   "cell_type": "code",
   "execution_count": null,
   "metadata": {
    "collapsed": false
   },
   "outputs": [],
   "source": [
    "imgs = load_images(imgs_paths, gray=True)\n",
    "imgs_sift_des = get_descriptors(imgs, sift.detectAndCompute)"
   ]
  },
  {
   "cell_type": "code",
   "execution_count": null,
   "metadata": {
    "collapsed": false
   },
   "outputs": [],
   "source": [
    "imgs = load_images(imgs_paths, gray=True)\n",
    "imgs_surf_des = get_descriptors(imgs, surf.detectAndCompute)"
   ]
  },
  {
   "cell_type": "code",
   "execution_count": null,
   "metadata": {
    "collapsed": false
   },
   "outputs": [],
   "source": [
    "imgs = load_images(imgs_paths, gray=True)\n",
    "imgs_fast_des = get_descriptors(imgs, detector=fast.detect, extractor=br.compute)"
   ]
  },
  {
   "cell_type": "code",
   "execution_count": null,
   "metadata": {
    "collapsed": true
   },
   "outputs": [],
   "source": []
  },
  {
   "cell_type": "markdown",
   "metadata": {},
   "source": [
    "### Output tools"
   ]
  },
  {
   "cell_type": "code",
   "execution_count": null,
   "metadata": {
    "collapsed": true
   },
   "outputs": [],
   "source": [
    "test_folder = 'data/test1/'"
   ]
  },
  {
   "cell_type": "code",
   "execution_count": null,
   "metadata": {
    "collapsed": true
   },
   "outputs": [],
   "source": [
    "imgs_paths_test = [test_folder + filepath for filepath in listdir(test_folder)]"
   ]
  },
  {
   "cell_type": "markdown",
   "metadata": {},
   "source": [
    "### Classifiers"
   ]
  },
  {
   "cell_type": "code",
   "execution_count": null,
   "metadata": {
    "collapsed": true
   },
   "outputs": [],
   "source": [
    "from sklearn.metrics import accuracy_score, confusion_matrix\n",
    "# function(y_true, y_pred)"
   ]
  },
  {
   "cell_type": "code",
   "execution_count": null,
   "metadata": {
    "collapsed": true
   },
   "outputs": [],
   "source": [
    "from sklearn.cross_validation import KFold\n",
    "# kf = KFold(nr_samples, n_folds=2)\n",
    "# returns indexes"
   ]
  },
  {
   "cell_type": "code",
   "execution_count": null,
   "metadata": {
    "collapsed": true
   },
   "outputs": [],
   "source": [
    "from sklearn.cross_validation import ShuffleSplit\n",
    "# for train, test in ShuffleSplit(nr_samples, n_iter=1, test_size=.3, random_state=0)"
   ]
  },
  {
   "cell_type": "markdown",
   "metadata": {},
   "source": [
    "#### Nearest Neighbors"
   ]
  },
  {
   "cell_type": "code",
   "execution_count": null,
   "metadata": {
    "collapsed": false
   },
   "outputs": [],
   "source": [
    "from queue import PriorityQueue\n",
    "\n",
    "def knn(train_paths, test_paths, descriptor, extractor=None, k=5):\n",
    "\n",
    "    # array to store predictions\n",
    "    pred_labels = []\n",
    "    \n",
    "    # labels\n",
    "    labels_train = [1 if \"dog\" in path else 0 for path in train_paths]\n",
    "    \n",
    "    # get images\n",
    "    imgs_train = load_images(train_paths, gray=True)\n",
    "    imgs_test = load_images(test_paths, gray=True)\n",
    "    \n",
    "    # generate test descriptors\n",
    "    imgs_test_des = get_descriptors(imgs_test, descriptor, extractor)\n",
    "    \n",
    "    for test_sample in imgs_test_des:\n",
    "        \n",
    "        # queue to store votes\n",
    "        pq = PriorityQueue()\n",
    "        \n",
    "        # generate train descriptors\n",
    "        imgs_train_des = get_descriptors(imgs_test, descriptor, extractor)\n",
    "        \n",
    "        for train_sample, train_label in zip(imgs_train_des, labels_train):\n",
    "            # match descriptors\n",
    "            matches = flann.knnMatch(test_sample, train_sample, k=2)\n",
    "            #matchesMasks = [[0,0] for _ in range(len(matches))]\n",
    "            \n",
    "            nr_matches = 0\n",
    "\n",
    "            # ratio test as per Lowe's paper\n",
    "            for i in range(len(matches)):\n",
    "                for j, (m, n) in enumerate(matches[i]):\n",
    "                    if m.distance < 0.7 * n.distance:\n",
    "                        #matchesMasks[i][j] = [1,0]\n",
    "                        nr_matches += 1\n",
    "            \n",
    "            pq.put((-nr_matches, train_labels))\n",
    "\n",
    "        # count votes\n",
    "        dog_votes = 0\n",
    "        for i in range(k):\n",
    "            dog_votes += pq.get()[1]\n",
    "        \n",
    "        if dog_votes > k / 2:\n",
    "            pred_labels.append(1)\n",
    "        else:\n",
    "            pred_labels.append(0)\n",
    "    \n",
    "    return pred_labels"
   ]
  },
  {
   "cell_type": "code",
   "execution_count": null,
   "metadata": {
    "collapsed": false
   },
   "outputs": [],
   "source": [
    "#imgs_paths_np = np.array(imgs_paths)\n",
    "\n",
    "#for train, test in ShuffleSplit(100, n_iter=2, test_size=.3, random_state=0):\n",
    "#    y_pred = knn(imgs_paths_np[train], imgs_paths_np[test], sift.detectAndCompute)\n",
    "#    \n",
    "#    y_true = [1 if \"dog\" in path else 0 for path in imgs_paths_np[test]]\n",
    "#    \n",
    "#    score = accuracy_score(y_true, y_pred)\n",
    "#    conf_mat = confusion_matrix(y_true, y_pred)\n",
    "#    \n",
    "#    print('Accuracy:', score)\n",
    "#    print('Confusion matrix:', conf_mat, sep='\\n')"
   ]
  },
  {
   "cell_type": "raw",
   "metadata": {},
   "source": []
  },
  {
   "cell_type": "code",
   "execution_count": null,
   "metadata": {
    "collapsed": true
   },
   "outputs": [],
   "source": []
  }
 ],
 "metadata": {
  "kernelspec": {
   "display_name": "Python 3",
   "language": "python",
   "name": "python3"
  },
  "language_info": {
   "codemirror_mode": {
    "name": "ipython",
    "version": 3
   },
   "file_extension": ".py",
   "mimetype": "text/x-python",
   "name": "python",
   "nbconvert_exporter": "python",
   "pygments_lexer": "ipython3",
   "version": "3.4.3"
  }
 },
 "nbformat": 4,
 "nbformat_minor": 0
}
